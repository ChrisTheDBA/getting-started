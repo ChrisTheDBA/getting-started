{
 "cells": [
  {
   "cell_type": "markdown",
   "metadata": {},
   "source": [
    "# Test of acs.R"
   ]
  },
  {
   "cell_type": "markdown",
   "metadata": {},
   "source": [
    "## References \n",
    "1. [Ezra Haber Glenn (2011), \"acs.R: an R Package for Neighborhood-Level Data from the U.S. Census\"](https://dusp.mit.edu/uis/publication/acsr-r-package-neighborhood-level-data-us-census)\n",
    "2. [Ezra Haber Glenn (2016), \"Package 'acs'](https://cran.r-project.org/web/packages/acs/acs.pdf)\n",
    "3. [Ezra Haber Glenn (2013), \"Working with Acs.R\"](https://papers.ssrn.com/sol3/papers.cfm?abstract_id=2552524)\n",
    "4. [Ezra Haber Glenn (2016), \"CityState | cities, planning, data, communities, participation - MIT\"](http://eglenn.scripts.mit.edu/citystate/)"
   ]
  },
  {
   "cell_type": "markdown",
   "metadata": {},
   "source": [
    "## Install the package"
   ]
  },
  {
   "cell_type": "code",
   "execution_count": 1,
   "metadata": {
    "collapsed": false
   },
   "outputs": [
    {
     "name": "stderr",
     "output_type": "stream",
     "text": [
      "Updating HTML index of packages in '.Library'\n",
      "Making 'packages.html' ... done\n"
     ]
    }
   ],
   "source": [
    "install.packages(\"acs\")"
   ]
  },
  {
   "cell_type": "markdown",
   "metadata": {},
   "source": [
    "## Load the library"
   ]
  },
  {
   "cell_type": "code",
   "execution_count": 2,
   "metadata": {
    "collapsed": false
   },
   "outputs": [
    {
     "name": "stderr",
     "output_type": "stream",
     "text": [
      "Loading required package: stringr\n",
      "Loading required package: plyr\n",
      "Loading required package: XML\n",
      "\n",
      "Attaching package: ‘acs’\n",
      "\n",
      "The following object is masked from ‘package:base’:\n",
      "\n",
      "    apply\n",
      "\n"
     ]
    }
   ],
   "source": [
    "library(acs)"
   ]
  },
  {
   "cell_type": "markdown",
   "metadata": {},
   "source": [
    "## Acquire the XML definition files\n",
    "Files will be downloaded to `~/miniconda3/envs/data-science/lib/R/library/acs/extdata`!"
   ]
  },
  {
   "cell_type": "code",
   "execution_count": 3,
   "metadata": {
    "collapsed": false
   },
   "outputs": [],
   "source": [
    "help(acs.tables.install)"
   ]
  },
  {
   "cell_type": "code",
   "execution_count": 4,
   "metadata": {
    "collapsed": true
   },
   "outputs": [],
   "source": [
    "acs.tables.install()"
   ]
  },
  {
   "cell_type": "markdown",
   "metadata": {},
   "source": [
    "## Show help for geo.make\n",
    "A help window will open ... click the arrow in the upper right to move it to a browser tab."
   ]
  },
  {
   "cell_type": "code",
   "execution_count": 5,
   "metadata": {
    "collapsed": false
   },
   "outputs": [],
   "source": [
    "help(geo.make)"
   ]
  }
 ],
 "metadata": {
  "anaconda-cloud": {},
  "kernelspec": {
   "display_name": "R [conda env:data-science]",
   "language": "R",
   "name": "conda-env-data-science-r"
  },
  "language_info": {
   "codemirror_mode": "r",
   "file_extension": ".r",
   "mimetype": "text/x-r-source",
   "name": "R",
   "pygments_lexer": "r",
   "version": "3.3.1"
  }
 },
 "nbformat": 4,
 "nbformat_minor": 1
}
